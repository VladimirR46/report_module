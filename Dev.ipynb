{
 "cells": [
  {
   "cell_type": "code",
   "id": "initial_id",
   "metadata": {
    "collapsed": true,
    "ExecuteTime": {
     "end_time": "2025-09-06T15:21:00.821316Z",
     "start_time": "2025-09-06T15:20:58.743971Z"
    }
   },
   "source": [
    "import numpy as np\n",
    "import pyxdf\n",
    "import logging\n",
    "import json\n",
    "\n",
    "# Configure logging\n",
    "logging.basicConfig(\n",
    "    level=logging.INFO,\n",
    "    format='%(asctime)s.%(msecs)04d %(levelname)s: %(message)s',\n",
    "    datefmt='%Y-%m-%d %H:%M:%S'\n",
    ")\n",
    "logger = logging.getLogger(__name__)\n",
    "\n",
    "FRONTAL_CHANNELS      = np.array(['Fp1', 'Fp2', 'F7', 'F3', 'Fz', 'F4', 'F8'])\n",
    "CENTRAL_L_CHANNELS    = np.array(['T3', 'C3', 'P3', 'T5'])\n",
    "CENTRAL_R_CHANNELS    = np.array(['T4', 'C4', 'P4', 'T6'])\n",
    "OCCIPITAL_CHANNELS    = np.array(['O1', 'O2'])\n",
    "MIDLINE_UNUSED        = np.array(['Cz', 'Pz'])\n",
    "\n",
    "CHANNELS_IN_STREAM = np.array(['Fp1', 'Fp2', 'F3', 'F4', 'C3', 'C4', 'P3', 'P4', 'O1', 'O2', 'F7', 'F8', 'T3', 'T4', 'T5', 'T6', 'A1', 'A2', 'Fz', 'Cz', 'Pz'])"
   ],
   "outputs": [],
   "execution_count": 1
  },
  {
   "metadata": {
    "ExecuteTime": {
     "end_time": "2025-09-02T22:35:04.644629Z",
     "start_time": "2025-09-02T22:35:04.642Z"
    }
   },
   "cell_type": "code",
   "source": [
    "aa = np.array([{'s':1},{'s':2}])\n",
    "\n",
    "aa[1]['s']"
   ],
   "id": "fb1acea1140a391a",
   "outputs": [
    {
     "data": {
      "text/plain": [
       "2"
      ]
     },
     "execution_count": 5,
     "metadata": {},
     "output_type": "execute_result"
    }
   ],
   "execution_count": 5
  },
  {
   "metadata": {
    "ExecuteTime": {
     "end_time": "2025-09-06T15:21:21.134811Z",
     "start_time": "2025-09-06T15:21:20.960021Z"
    }
   },
   "cell_type": "code",
   "source": [
    "xdf_file = '/Users/vladimirantipov/Documents/Brainbuilding/database/2025/09/248cf8aa-f5b3-4e0d-81e2-816bdeb98670/data.xdf'#'/Users/vladimirantipov/Documents/Neurolab/Experiments/HandMoves/dataset3/data/3/data.xdf'\n",
    "json_file = '/Users/vladimirantipov/Documents/Brainbuilding/database/2025/09/248cf8aa-f5b3-4e0d-81e2-816bdeb98670/Task.json'#'/Users/vladimirantipov/Documents/Neurolab/Experiments/HandMoves/dataset3/data/3/Task.json'\n",
    "\n",
    "with open(json_file, encoding='utf-8') as file:\n",
    "    task = json.load(file)\n",
    "\n",
    "patient = task['patient']\n",
    "\n",
    "streams, _ = pyxdf.load_xdf(xdf_file, synchronize_clocks=True, dejitter_timestamps=True)\n",
    "streams = {stream[\"info\"][\"stream_id\"]: stream for stream in streams}"
   ],
   "id": "2f444dd8a5a1b26a",
   "outputs": [
    {
     "name": "stderr",
     "output_type": "stream",
     "text": [
      "2025-09-06 17:21:21.0008 INFO: Importing XDF file /Users/vladimirantipov/Documents/Brainbuilding/database/2025/09/248cf8aa-f5b3-4e0d-81e2-816bdeb98670/data.xdf...\n",
      "2025-09-06 17:21:21.0102 INFO:   performing clock synchronization...\n",
      "2025-09-06 17:21:21.0130 INFO:   performing jitter removal...\n"
     ]
    }
   ],
   "execution_count": 2
  },
  {
   "metadata": {
    "ExecuteTime": {
     "end_time": "2025-08-26T19:40:59.880244Z",
     "start_time": "2025-08-26T19:40:59.878193Z"
    }
   },
   "cell_type": "code",
   "source": [
    "name = ' '.join([patient['lastName'], patient['firstName'],  patient['middleName']])\n",
    "\n",
    "from datetime import datetime\n",
    "dt = datetime.strptime(task['StartTime'], '%d.%m.%Y %H:%M:%S')\n",
    "date_str = dt.strftime('%d.%m.%Y')\n",
    "print(task['StartTime'].split(' ')[0])"
   ],
   "id": "761f2244a02e558b",
   "outputs": [
    {
     "name": "stdout",
     "output_type": "stream",
     "text": [
      "23.12.2024\n"
     ]
    }
   ],
   "execution_count": 25
  },
  {
   "metadata": {
    "ExecuteTime": {
     "end_time": "2025-08-26T20:04:24.928177Z",
     "start_time": "2025-08-26T20:04:24.899928Z"
    }
   },
   "cell_type": "code",
   "source": [
    "def _get_stream_id(streams, stream_name=None, stream_type=None):\n",
    "    \"\"\"Find stream ID by name and/or stream type.\"\"\"\n",
    "    for stream_id, stream in streams.items():\n",
    "        info = stream['info']\n",
    "        if stream_name is not None and info['name'][0] != stream_name:\n",
    "            continue\n",
    "        if stream_type is not None and info['type'][0] != stream_type:\n",
    "            continue\n",
    "        return stream_id\n",
    "    criteria = []\n",
    "    if stream_name: criteria.append(f\"name='{stream_name}'\")\n",
    "    if stream_type: criteria.append(f\"type='{stream_type}'\")\n",
    "    logger.error(f\"Stream with {' and '.join(criteria)} not found\")\n",
    "    return None\n",
    "\n",
    "egg_id = _get_stream_id(streams, stream_type='EEG')\n",
    "eeg_stream = streams[egg_id]\n",
    "\n",
    "ch_list, units = [], []\n",
    "for ch in eeg_stream[\"info\"][\"desc\"][0][\"channels\"][0][\"channel\"]:\n",
    "    ch_list.append(str(ch[\"label\"][0]))\n",
    "    units.append(ch[\"unit\"][0] if ch[\"unit\"] else \"NA\")\n",
    "\n",
    "time_series = eeg_stream[\"time_series\"]\n",
    "microvolts = (\"microvolt\", \"microvolts\", \"µV\", \"μV\", \"uV\")\n",
    "scale = np.array([1e-6 if u in microvolts else 1 for u in units])\n",
    "time_series_scaled = (time_series * scale).T\n",
    "\n",
    "def _get_events(task):\n",
    "    events = task['events']\n",
    "    samples = task['samples']\n",
    "\n",
    "    event_dict = {'source': [],'event_name': [],'sample_type': [],'trial_type': [],'block_type': [],\n",
    "    'block_id': [],'trial_id': [],'event_id': [],'item_id': [],'sample_id': [],'trigger_code': [],\n",
    "    'time': [],'index': [],'duration': [] }\n",
    "\n",
    "    for event in events:\n",
    "        sample = samples[event['sample_id']]\n",
    "        event_dict['source'].append(event['source'])\n",
    "        event_dict['event_name'].append(event['event_name'])\n",
    "        event_dict['sample_type'].append(sample['sample_type'])\n",
    "        event_dict['trial_type'].append(sample['trial_type'])\n",
    "        event_dict['block_type'].append(sample['block_type'])\n",
    "        event_dict['block_id'].append(sample['block_id'])\n",
    "        event_dict['trial_id'].append(sample['trial_id'])\n",
    "        event_dict['event_id'].append(event['event_id'])\n",
    "        event_dict['item_id'].append(event['item_id'])\n",
    "        event_dict['sample_id'].append(event['sample_id'])\n",
    "        event_dict['trigger_code'].append(sample['trigger_code'])\n",
    "        event_dict['time'].append(event['time'])\n",
    "        event_dict['duration'].append(float(sample['duration']) if event['event_name'] == 'show' else 0.0)\n",
    "    for key in event_dict:\n",
    "        event_dict[key] = np.array(event_dict[key])\n",
    "    return event_dict\n",
    "\n",
    "events = _get_events(task)\n"
   ],
   "id": "2b8bfdab8d8421eb",
   "outputs": [],
   "execution_count": 26
  },
  {
   "metadata": {},
   "cell_type": "markdown",
   "source": "# ERD",
   "id": "8bd3f005f4588cd2"
  },
  {
   "metadata": {
    "ExecuteTime": {
     "end_time": "2025-08-26T20:04:32.930119Z",
     "start_time": "2025-08-26T20:04:32.858862Z"
    }
   },
   "cell_type": "code",
   "source": [
    "def rest_stim_bands(events, hand, first_time, srate):\n",
    "    rest = np.where(\n",
    "        (events['sample_type'] == 'Rest') &\n",
    "        (events['trial_type'] == hand+'/hand') &\n",
    "        (events['event_name'] == 'show')\n",
    "    )[0]\n",
    "    rest_time = events['time'][rest] - first_time\n",
    "    stim = np.where(\n",
    "        (np.isin(events['sample_type'], ['Point', 'Image'])) &\n",
    "        (events['trial_type'] == hand+'/hand') &\n",
    "        (events['event_name'] == 'show')\n",
    "    )[0]\n",
    "    stim_time = events['time'][stim] - first_time\n",
    "\n",
    "    rest_start = np.round(rest_time * srate).astype(int)\n",
    "    rest_end = np.round((rest_time+events['duration'][rest]) * srate).astype(int)\n",
    "    rest = np.column_stack((rest_start, rest_end))\n",
    "\n",
    "    stim_start = np.round(stim_time * srate).astype(int)\n",
    "    stim_end = np.round((stim_time+events['duration'][stim]) * srate).astype(int)\n",
    "    stim = np.column_stack((stim_start, stim_end))\n",
    "    return rest, stim\n",
    "\n",
    "first_time = eeg_stream[\"time_stamps\"][0]\n",
    "srate = int(float(eeg_stream[\"info\"][\"nominal_srate\"][0]))\n",
    "rest_l, stim_l = rest_stim_bands(events, 'left', first_time, srate)\n",
    "rest_r, stim_r = rest_stim_bands(events, 'right', first_time, srate)\n",
    "\n",
    "data_f = bandpass_filter(time_series_scaled, 500, l_freq=1, h_freq=40, method='iir')\n",
    "\n",
    "def calc_trials(rest, stim):\n",
    "    r\"\"\"\n",
    "    Returns\n",
    "    -------\n",
    "    trials : ndarray\n",
    "        (trials_n, f_bands, ch_n)\n",
    "    \"\"\"\n",
    "\n",
    "    trials = []\n",
    "    for (r_start, r_end), (s_start, s_end) in zip(rest, stim):\n",
    "        rest_data = data_f[:, r_start:r_end]\n",
    "        stim_data = data_f[:, s_start:s_end]\n",
    "\n",
    "        rest_psds, rest_freqs = psd_welch(rest_data, sfreq=srate, fmin=1, fmax=30)\n",
    "        stim_psds, stim_freqs = psd_welch(stim_data, sfreq=srate, fmin=1, fmax=30)\n",
    "\n",
    "        def power_band(psds, freqs, bands):\n",
    "            band_powers = {}\n",
    "            for band, (fmin, fmax) in bands.items():\n",
    "                mask = (freqs >= fmin) & (freqs < fmax)\n",
    "                band_powers[band] = np.mean(psds[:, mask], axis=1)\n",
    "            return band_powers\n",
    "\n",
    "        bands = {'mu': (8, 13),'beta': (13, 30)}\n",
    "        rest_bands = power_band(rest_psds, rest_freqs, bands)\n",
    "        stim_bands = power_band(stim_psds, stim_freqs, bands)\n",
    "\n",
    "        ERD_mu = (rest_bands['mu'] - stim_bands['mu']) / rest_bands['mu'] * 100\n",
    "        ERD_beta = (rest_bands['beta'] - stim_bands['beta']) / rest_bands['beta'] * 100\n",
    "        ERD_mean = (ERD_mu + ERD_beta) / 2\n",
    "        trials.append([ERD_mu, ERD_beta, ERD_mean])\n",
    "    return np.array(trials)\n",
    "\n",
    "l_trials = calc_trials(rest_l, stim_l)\n",
    "r_trials = calc_trials(rest_r, stim_r)\n",
    "\n",
    "# Make Json\n",
    "result = {}\n",
    "for hand, data in [('left', l_trials), ('right', r_trials)]:\n",
    "    ch_dict = {}\n",
    "    for ch_name, ch_idx in [('c3', 1)]:\n",
    "        ch_data = data[:,:,ch_idx]\n",
    "        band_dict = {}\n",
    "        for band, band_idx in (('mu', 0), ('beta', 1) , ('erd', 2)):\n",
    "            band_data = ch_data[:, band_idx]\n",
    "            band_dict[band] = {'mean': np.mean(band_data), 'max': np.max(band_data)}\n",
    "        ch_dict[ch_name] = band_dict\n",
    "    result[hand] = ch_dict\n",
    "\n",
    "out = {}\n",
    "for hand, data in result.items():\n",
    "    LI_ERD_mu   = ((data['c3']['mu']['mean']-data['c4']['mu']['mean']) /\n",
    "                  (data['c3']['mu']['mean']+data['c4']['mu']['mean']))\n",
    "    LI_ERD_beta = ((data['c3']['beta']['mean']-data['c4']['beta']['mean']) /\n",
    "                  (data['c3']['beta']['mean']+data['c4']['beta']['mean']))\n",
    "    LI_ERD_mean = ((data['c3']['erd']['mean']-data['c4']['erd']['mean']) /\n",
    "                  (data['c3']['erd']['mean']+data['c4']['erd']['mean']))\n",
    "    out[hand] = {'mu': LI_ERD_mu, 'beta': LI_ERD_beta, 'erd': LI_ERD_mean}"
   ],
   "id": "d1b544b698981577",
   "outputs": [
    {
     "ename": "NameError",
     "evalue": "name 'bandpass_filter' is not defined",
     "output_type": "error",
     "traceback": [
      "\u001B[31m---------------------------------------------------------------------------\u001B[39m",
      "\u001B[31mNameError\u001B[39m                                 Traceback (most recent call last)",
      "\u001B[36mCell\u001B[39m\u001B[36m \u001B[39m\u001B[32mIn[27]\u001B[39m\u001B[32m, line 29\u001B[39m\n\u001B[32m     26\u001B[39m rest_l, stim_l = rest_stim_bands(events, \u001B[33m'\u001B[39m\u001B[33mleft\u001B[39m\u001B[33m'\u001B[39m, first_time, srate)\n\u001B[32m     27\u001B[39m rest_r, stim_r = rest_stim_bands(events, \u001B[33m'\u001B[39m\u001B[33mright\u001B[39m\u001B[33m'\u001B[39m, first_time, srate)\n\u001B[32m---> \u001B[39m\u001B[32m29\u001B[39m data_f = \u001B[43mbandpass_filter\u001B[49m(time_series_scaled, \u001B[32m500\u001B[39m, l_freq=\u001B[32m1\u001B[39m, h_freq=\u001B[32m40\u001B[39m, method=\u001B[33m'\u001B[39m\u001B[33miir\u001B[39m\u001B[33m'\u001B[39m)\n\u001B[32m     31\u001B[39m \u001B[38;5;28;01mdef\u001B[39;00m\u001B[38;5;250m \u001B[39m\u001B[34mcalc_trials\u001B[39m(rest, stim):\n\u001B[32m     32\u001B[39m \u001B[38;5;250m    \u001B[39m\u001B[33mr\u001B[39m\u001B[33;03m\"\"\"\u001B[39;00m\n\u001B[32m     33\u001B[39m \u001B[33;03m    Returns\u001B[39;00m\n\u001B[32m     34\u001B[39m \u001B[33;03m    -------\u001B[39;00m\n\u001B[32m     35\u001B[39m \u001B[33;03m    trials : ndarray\u001B[39;00m\n\u001B[32m     36\u001B[39m \u001B[33;03m        (trials_n, f_bands, ch_n)\u001B[39;00m\n\u001B[32m     37\u001B[39m \u001B[33;03m    \"\"\"\u001B[39;00m\n",
      "\u001B[31mNameError\u001B[39m: name 'bandpass_filter' is not defined"
     ]
    }
   ],
   "execution_count": 27
  },
  {
   "metadata": {
    "ExecuteTime": {
     "end_time": "2025-08-26T19:02:11.270193Z",
     "start_time": "2025-08-26T19:02:11.267319Z"
    }
   },
   "cell_type": "code",
   "source": [
    "def truncate(val, decimals=3):\n",
    "    sig = max(0, 4 - len(str(int(val))))\n",
    "    return float(format(val , '.%df' % sig))\n",
    "# def truncate(val, sig_digits=4):\n",
    "#     v = float(val)\n",
    "#     sig = max(0, sig_digits - len(str(int(abs(v)))) )  # сколько оставить после запятой\n",
    "#     return round(v, sig)\n",
    "\n",
    "value = 0.3452324\n",
    "print(truncate(value, 3))"
   ],
   "id": "88642e1ea060e633",
   "outputs": [
    {
     "name": "stdout",
     "output_type": "stream",
     "text": [
      "0.345\n"
     ]
    }
   ],
   "execution_count": 20
  },
  {
   "metadata": {},
   "cell_type": "markdown",
   "source": "# background",
   "id": "fa1ff90b0a0c6d58"
  },
  {
   "metadata": {
    "ExecuteTime": {
     "end_time": "2025-08-24T14:26:10.719259Z",
     "start_time": "2025-08-24T14:26:10.715392Z"
    }
   },
   "cell_type": "code",
   "source": [
    "first_time = eeg_stream[\"time_stamps\"][0]\n",
    "background_idxs = np.where(events['sample_type'] == 'Background')[0]\n",
    "background_time = events['time'][background_idxs] - first_time\n",
    "dur = events['duration'][background_idxs]\n",
    "\n",
    "srate = int(float(eeg_stream[\"info\"][\"nominal_srate\"][0]))\n",
    "background_start = np.round(background_time * srate).astype(int)\n",
    "background_end = np.round((background_time+dur) * srate).astype(int)\n",
    "\n",
    "print(background_start, background_end, background_end-background_start)\n",
    "\n",
    "background_data = []\n",
    "for start, end in zip(background_start, background_end):\n",
    "    background_data.append(time_series_scaled[:, start:end])"
   ],
   "id": "7ec2fdcebf47b32e",
   "outputs": [
    {
     "name": "stdout",
     "output_type": "stream",
     "text": [
      "[ 32503 513540] [ 62503 543540] [30000 30000]\n"
     ]
    }
   ],
   "execution_count": 4
  },
  {
   "metadata": {
    "ExecuteTime": {
     "end_time": "2025-08-26T20:04:54.279553Z",
     "start_time": "2025-08-26T20:04:47.202377Z"
    }
   },
   "cell_type": "code",
   "source": [
    "from scipy.signal import firwin, butter, filtfilt, sosfiltfilt\n",
    "\n",
    "def bandpass_filter(data, sfreq, l_freq, h_freq, method='fir'):\n",
    "    if method == 'fir':\n",
    "        l_trans = min(max(0.25 * l_freq, 2.0), l_freq)\n",
    "        h_trans = min(max(0.25 * h_freq, 2.0), sfreq/2 - h_freq)\n",
    "        trans_bandwidth = min(l_trans, h_trans)\n",
    "        n_taps = int(3.3 * sfreq / trans_bandwidth) | 1\n",
    "        filt = firwin(n_taps, [l_freq, h_freq], fs=sfreq, pass_zero='bandpass')\n",
    "        return filtfilt(filt, 1, data, axis=-1)\n",
    "    else:\n",
    "        nyq = sfreq / 2\n",
    "        sos = butter(4, [l_freq/nyq, h_freq/nyq], 'band', output='sos')\n",
    "        return sosfiltfilt(sos, data, axis=-1)\n",
    "\n",
    "d1 = bandpass_filter(time_series_scaled, 500, l_freq=1, h_freq=40, method='fir')\n",
    "d2 = bandpass_filter(time_series_scaled, 500, l_freq=1, h_freq=40, method='iir')\n"
   ],
   "id": "4023c34c101d7390",
   "outputs": [],
   "execution_count": 29
  },
  {
   "metadata": {
    "ExecuteTime": {
     "end_time": "2025-08-26T20:48:38.329421Z",
     "start_time": "2025-08-26T20:48:38.326929Z"
    }
   },
   "cell_type": "code",
   "source": [
    "#6.377 0.758 1.346 0.174 0.338 0.052 0.11 0.017\n",
    "\n",
    "sum = 6.377 + 1.346 + 0.338 + 0.11\n",
    "print(np.sum([6.377/sum, 1.346/sum, 0.338/sum, 0.11/sum]))"
   ],
   "id": "92d0014514f1e8dd",
   "outputs": [
    {
     "name": "stdout",
     "output_type": "stream",
     "text": [
      "1.0\n"
     ]
    }
   ],
   "execution_count": 37
  },
  {
   "metadata": {
    "ExecuteTime": {
     "end_time": "2025-08-26T20:05:19.354243Z",
     "start_time": "2025-08-26T20:05:18.525146Z"
    }
   },
   "cell_type": "code",
   "source": [
    "from scipy.signal import welch\n",
    "import mne\n",
    "\n",
    "def psd_welch(data, sfreq, fmin=0, fmax=np.inf):\n",
    "    nperseg = int(min(2 * sfreq, data.shape[-1]))\n",
    "    nfft = max(nperseg, int(4 * sfreq))\n",
    "    freqs, psds = welch(data, sfreq, nperseg=nperseg,nfft=nfft, noverlap=nperseg//2)\n",
    "    freq_mask = (freqs >= fmin) & (freqs <= fmax)\n",
    "    psds = psds[:, freq_mask] if psds.ndim > 1 else psds[freq_mask]\n",
    "    return psds, freqs[freq_mask]\n",
    "\n",
    "def power_band(psds, freqs, bands, power='abs'):\n",
    "    psd = psds.copy()\n",
    "    if power == 'rel':\n",
    "        psd /= np.sum(psd, axis=-1, keepdims=True)\n",
    "    band_powers = {}\n",
    "    for band, (fmin, fmax) in bands.items():\n",
    "        mask = (freqs >= fmin) & (freqs < fmax)\n",
    "        band_powers[band] = np.mean(psd[:, mask], axis=1)\n",
    "    return band_powers\n",
    "\n",
    "\n",
    "bands = {'delta': (0.5, 4),'theta': (4, 8),'alpha': (8, 13),'beta': (13, 30)}\n",
    "psds, freqs = psd_welch(d1, sfreq=500.0, fmin=1, fmax=30)\n",
    "band_power_abs = power_band(psds, freqs, bands)\n",
    "#band_powers = power_band(psds, freqs, bands, power='rel')\n",
    "\n",
    "band_power_rel = {\n",
    "    band: power / sum(band_power_abs.values())\n",
    "    for band, power in band_power_abs.items()\n",
    "}\n",
    "#band_power_rel = np.array(np.array(list(band_power_abs.values())))\n",
    "\n",
    "for ch in range(len(band_power_abs['delta'])):\n",
    "   ch_psd = (band_power_abs['delta'][ch] + band_power_abs['theta'][ch] + band_power_abs['alpha'][ch] + band_power_abs['beta'][ch])\n",
    "\n",
    "######### MNE TEST ##################\n",
    "#fdata = mne.filter.filter_data(time_series_scaled, sfreq=500.0, l_freq=1, h_freq=30.0)\n",
    "#psds2, freqs2 = mne.time_frequency.psd_array_welch(fdata, sfreq=500.0, fmin=0.5, fmax=30)\n",
    "\n",
    "\n",
    "import matplotlib.pyplot as plt\n",
    "%matplotlib qt6\n",
    "\n",
    "plt.plot(freqs, psds[7])\n",
    "#plt.plot(freqs2, psds2[7])"
   ],
   "id": "8640655d7eb8ca10",
   "outputs": [
    {
     "ename": "ImportError",
     "evalue": "Failed to import any of the following Qt binding modules: PyQt6, PySide6, PyQt5, PySide2",
     "output_type": "error",
     "traceback": [
      "\u001B[31m---------------------------------------------------------------------------\u001B[39m",
      "\u001B[31mImportError\u001B[39m                               Traceback (most recent call last)",
      "\u001B[36mCell\u001B[39m\u001B[36m \u001B[39m\u001B[32mIn[30]\u001B[39m\u001B[32m, line 43\u001B[39m\n\u001B[32m     37\u001B[39m \u001B[38;5;66;03m######### MNE TEST ##################\u001B[39;00m\n\u001B[32m     38\u001B[39m \u001B[38;5;66;03m#fdata = mne.filter.filter_data(time_series_scaled, sfreq=500.0, l_freq=1, h_freq=30.0)\u001B[39;00m\n\u001B[32m     39\u001B[39m \u001B[38;5;66;03m#psds2, freqs2 = mne.time_frequency.psd_array_welch(fdata, sfreq=500.0, fmin=0.5, fmax=30)\u001B[39;00m\n\u001B[32m     42\u001B[39m \u001B[38;5;28;01mimport\u001B[39;00m\u001B[38;5;250m \u001B[39m\u001B[34;01mmatplotlib\u001B[39;00m\u001B[34;01m.\u001B[39;00m\u001B[34;01mpyplot\u001B[39;00m\u001B[38;5;250m \u001B[39m\u001B[38;5;28;01mas\u001B[39;00m\u001B[38;5;250m \u001B[39m\u001B[34;01mplt\u001B[39;00m\n\u001B[32m---> \u001B[39m\u001B[32m43\u001B[39m \u001B[43mget_ipython\u001B[49m\u001B[43m(\u001B[49m\u001B[43m)\u001B[49m\u001B[43m.\u001B[49m\u001B[43mrun_line_magic\u001B[49m\u001B[43m(\u001B[49m\u001B[33;43m'\u001B[39;49m\u001B[33;43mmatplotlib\u001B[39;49m\u001B[33;43m'\u001B[39;49m\u001B[43m,\u001B[49m\u001B[43m \u001B[49m\u001B[33;43m'\u001B[39;49m\u001B[33;43mqt6\u001B[39;49m\u001B[33;43m'\u001B[39;49m\u001B[43m)\u001B[49m\n\u001B[32m     45\u001B[39m plt.plot(freqs, psds[\u001B[32m7\u001B[39m])\n\u001B[32m     46\u001B[39m \u001B[38;5;66;03m#plt.plot(freqs2, psds2[7])\u001B[39;00m\n",
      "\u001B[36mFile \u001B[39m\u001B[32m~/Documents/Neurolab/Projects/report_module/.venv/lib/python3.12/site-packages/IPython/core/interactiveshell.py:2504\u001B[39m, in \u001B[36mInteractiveShell.run_line_magic\u001B[39m\u001B[34m(self, magic_name, line, _stack_depth)\u001B[39m\n\u001B[32m   2502\u001B[39m     kwargs[\u001B[33m'\u001B[39m\u001B[33mlocal_ns\u001B[39m\u001B[33m'\u001B[39m] = \u001B[38;5;28mself\u001B[39m.get_local_scope(stack_depth)\n\u001B[32m   2503\u001B[39m \u001B[38;5;28;01mwith\u001B[39;00m \u001B[38;5;28mself\u001B[39m.builtin_trap:\n\u001B[32m-> \u001B[39m\u001B[32m2504\u001B[39m     result = \u001B[43mfn\u001B[49m\u001B[43m(\u001B[49m\u001B[43m*\u001B[49m\u001B[43margs\u001B[49m\u001B[43m,\u001B[49m\u001B[43m \u001B[49m\u001B[43m*\u001B[49m\u001B[43m*\u001B[49m\u001B[43mkwargs\u001B[49m\u001B[43m)\u001B[49m\n\u001B[32m   2506\u001B[39m \u001B[38;5;66;03m# The code below prevents the output from being displayed\u001B[39;00m\n\u001B[32m   2507\u001B[39m \u001B[38;5;66;03m# when using magics with decorator @output_can_be_silenced\u001B[39;00m\n\u001B[32m   2508\u001B[39m \u001B[38;5;66;03m# when the last Python token in the expression is a ';'.\u001B[39;00m\n\u001B[32m   2509\u001B[39m \u001B[38;5;28;01mif\u001B[39;00m \u001B[38;5;28mgetattr\u001B[39m(fn, magic.MAGIC_OUTPUT_CAN_BE_SILENCED, \u001B[38;5;28;01mFalse\u001B[39;00m):\n",
      "\u001B[36mFile \u001B[39m\u001B[32m~/Documents/Neurolab/Projects/report_module/.venv/lib/python3.12/site-packages/IPython/core/magics/pylab.py:103\u001B[39m, in \u001B[36mPylabMagics.matplotlib\u001B[39m\u001B[34m(self, line)\u001B[39m\n\u001B[32m     98\u001B[39m     \u001B[38;5;28mprint\u001B[39m(\n\u001B[32m     99\u001B[39m         \u001B[33m\"\u001B[39m\u001B[33mAvailable matplotlib backends: \u001B[39m\u001B[38;5;132;01m%s\u001B[39;00m\u001B[33m\"\u001B[39m\n\u001B[32m    100\u001B[39m         % _list_matplotlib_backends_and_gui_loops()\n\u001B[32m    101\u001B[39m     )\n\u001B[32m    102\u001B[39m \u001B[38;5;28;01melse\u001B[39;00m:\n\u001B[32m--> \u001B[39m\u001B[32m103\u001B[39m     gui, backend = \u001B[38;5;28;43mself\u001B[39;49m\u001B[43m.\u001B[49m\u001B[43mshell\u001B[49m\u001B[43m.\u001B[49m\u001B[43menable_matplotlib\u001B[49m\u001B[43m(\u001B[49m\u001B[43margs\u001B[49m\u001B[43m.\u001B[49m\u001B[43mgui\u001B[49m\u001B[43m)\u001B[49m\n\u001B[32m    104\u001B[39m     \u001B[38;5;28mself\u001B[39m._show_matplotlib_backend(args.gui, backend)\n",
      "\u001B[36mFile \u001B[39m\u001B[32m~/Documents/Neurolab/Projects/report_module/.venv/lib/python3.12/site-packages/IPython/core/interactiveshell.py:3799\u001B[39m, in \u001B[36mInteractiveShell.enable_matplotlib\u001B[39m\u001B[34m(self, gui)\u001B[39m\n\u001B[32m   3795\u001B[39m         \u001B[38;5;28mprint\u001B[39m(\u001B[33m'\u001B[39m\u001B[33mWarning: Cannot change to a different GUI toolkit: \u001B[39m\u001B[38;5;132;01m%s\u001B[39;00m\u001B[33m.\u001B[39m\u001B[33m'\u001B[39m\n\u001B[32m   3796\u001B[39m                 \u001B[33m'\u001B[39m\u001B[33m Using \u001B[39m\u001B[38;5;132;01m%s\u001B[39;00m\u001B[33m instead.\u001B[39m\u001B[33m'\u001B[39m % (gui, \u001B[38;5;28mself\u001B[39m.pylab_gui_select))\n\u001B[32m   3797\u001B[39m         gui, backend = pt.find_gui_and_backend(\u001B[38;5;28mself\u001B[39m.pylab_gui_select)\n\u001B[32m-> \u001B[39m\u001B[32m3799\u001B[39m \u001B[43mpt\u001B[49m\u001B[43m.\u001B[49m\u001B[43mactivate_matplotlib\u001B[49m\u001B[43m(\u001B[49m\u001B[43mbackend\u001B[49m\u001B[43m)\u001B[49m\n\u001B[32m   3801\u001B[39m \u001B[38;5;28;01mfrom\u001B[39;00m\u001B[38;5;250m \u001B[39m\u001B[34;01mmatplotlib_inline\u001B[39;00m\u001B[34;01m.\u001B[39;00m\u001B[34;01mbackend_inline\u001B[39;00m\u001B[38;5;250m \u001B[39m\u001B[38;5;28;01mimport\u001B[39;00m configure_inline_support\n\u001B[32m   3803\u001B[39m configure_inline_support(\u001B[38;5;28mself\u001B[39m, backend)\n",
      "\u001B[36mFile \u001B[39m\u001B[32m~/Documents/Neurolab/Projects/report_module/.venv/lib/python3.12/site-packages/IPython/core/pylabtools.py:410\u001B[39m, in \u001B[36mactivate_matplotlib\u001B[39m\u001B[34m(backend)\u001B[39m\n\u001B[32m    405\u001B[39m \u001B[38;5;66;03m# Due to circular imports, pyplot may be only partially initialised\u001B[39;00m\n\u001B[32m    406\u001B[39m \u001B[38;5;66;03m# when this function runs.\u001B[39;00m\n\u001B[32m    407\u001B[39m \u001B[38;5;66;03m# So avoid needing matplotlib attribute-lookup to access pyplot.\u001B[39;00m\n\u001B[32m    408\u001B[39m \u001B[38;5;28;01mfrom\u001B[39;00m\u001B[38;5;250m \u001B[39m\u001B[34;01mmatplotlib\u001B[39;00m\u001B[38;5;250m \u001B[39m\u001B[38;5;28;01mimport\u001B[39;00m pyplot \u001B[38;5;28;01mas\u001B[39;00m plt\n\u001B[32m--> \u001B[39m\u001B[32m410\u001B[39m \u001B[43mplt\u001B[49m\u001B[43m.\u001B[49m\u001B[43mswitch_backend\u001B[49m\u001B[43m(\u001B[49m\u001B[43mbackend\u001B[49m\u001B[43m)\u001B[49m\n\u001B[32m    412\u001B[39m plt.show._needmain = \u001B[38;5;28;01mFalse\u001B[39;00m\n\u001B[32m    413\u001B[39m \u001B[38;5;66;03m# We need to detect at runtime whether show() is called by the user.\u001B[39;00m\n\u001B[32m    414\u001B[39m \u001B[38;5;66;03m# For this, we wrap it into a decorator which adds a 'called' flag.\u001B[39;00m\n",
      "\u001B[36mFile \u001B[39m\u001B[32m~/Documents/Neurolab/Projects/report_module/.venv/lib/python3.12/site-packages/matplotlib/pyplot.py:425\u001B[39m, in \u001B[36mswitch_backend\u001B[39m\u001B[34m(newbackend)\u001B[39m\n\u001B[32m    422\u001B[39m         \u001B[38;5;28;01mreturn\u001B[39;00m\n\u001B[32m    423\u001B[39m old_backend = rcParams._get(\u001B[33m'\u001B[39m\u001B[33mbackend\u001B[39m\u001B[33m'\u001B[39m)  \u001B[38;5;66;03m# get without triggering backend resolution\u001B[39;00m\n\u001B[32m--> \u001B[39m\u001B[32m425\u001B[39m module = \u001B[43mbackend_registry\u001B[49m\u001B[43m.\u001B[49m\u001B[43mload_backend_module\u001B[49m\u001B[43m(\u001B[49m\u001B[43mnewbackend\u001B[49m\u001B[43m)\u001B[49m\n\u001B[32m    426\u001B[39m canvas_class = module.FigureCanvas\n\u001B[32m    428\u001B[39m required_framework = canvas_class.required_interactive_framework\n",
      "\u001B[36mFile \u001B[39m\u001B[32m~/Documents/Neurolab/Projects/report_module/.venv/lib/python3.12/site-packages/matplotlib/backends/registry.py:317\u001B[39m, in \u001B[36mBackendRegistry.load_backend_module\u001B[39m\u001B[34m(self, backend)\u001B[39m\n\u001B[32m    303\u001B[39m \u001B[38;5;250m\u001B[39m\u001B[33;03m\"\"\"\u001B[39;00m\n\u001B[32m    304\u001B[39m \u001B[33;03mLoad and return the module containing the specified backend.\u001B[39;00m\n\u001B[32m    305\u001B[39m \n\u001B[32m   (...)\u001B[39m\u001B[32m    314\u001B[39m \u001B[33;03m    Module containing backend.\u001B[39;00m\n\u001B[32m    315\u001B[39m \u001B[33;03m\"\"\"\u001B[39;00m\n\u001B[32m    316\u001B[39m module_name = \u001B[38;5;28mself\u001B[39m._backend_module_name(backend)\n\u001B[32m--> \u001B[39m\u001B[32m317\u001B[39m \u001B[38;5;28;01mreturn\u001B[39;00m \u001B[43mimportlib\u001B[49m\u001B[43m.\u001B[49m\u001B[43mimport_module\u001B[49m\u001B[43m(\u001B[49m\u001B[43mmodule_name\u001B[49m\u001B[43m)\u001B[49m\n",
      "\u001B[36mFile \u001B[39m\u001B[32m/Library/Frameworks/Python.framework/Versions/3.12/lib/python3.12/importlib/__init__.py:90\u001B[39m, in \u001B[36mimport_module\u001B[39m\u001B[34m(name, package)\u001B[39m\n\u001B[32m     88\u001B[39m             \u001B[38;5;28;01mbreak\u001B[39;00m\n\u001B[32m     89\u001B[39m         level += \u001B[32m1\u001B[39m\n\u001B[32m---> \u001B[39m\u001B[32m90\u001B[39m \u001B[38;5;28;01mreturn\u001B[39;00m \u001B[43m_bootstrap\u001B[49m\u001B[43m.\u001B[49m\u001B[43m_gcd_import\u001B[49m\u001B[43m(\u001B[49m\u001B[43mname\u001B[49m\u001B[43m[\u001B[49m\u001B[43mlevel\u001B[49m\u001B[43m:\u001B[49m\u001B[43m]\u001B[49m\u001B[43m,\u001B[49m\u001B[43m \u001B[49m\u001B[43mpackage\u001B[49m\u001B[43m,\u001B[49m\u001B[43m \u001B[49m\u001B[43mlevel\u001B[49m\u001B[43m)\u001B[49m\n",
      "\u001B[36mFile \u001B[39m\u001B[32m<frozen importlib._bootstrap>:1381\u001B[39m, in \u001B[36m_gcd_import\u001B[39m\u001B[34m(name, package, level)\u001B[39m\n",
      "\u001B[36mFile \u001B[39m\u001B[32m<frozen importlib._bootstrap>:1354\u001B[39m, in \u001B[36m_find_and_load\u001B[39m\u001B[34m(name, import_)\u001B[39m\n",
      "\u001B[36mFile \u001B[39m\u001B[32m<frozen importlib._bootstrap>:1325\u001B[39m, in \u001B[36m_find_and_load_unlocked\u001B[39m\u001B[34m(name, import_)\u001B[39m\n",
      "\u001B[36mFile \u001B[39m\u001B[32m<frozen importlib._bootstrap>:929\u001B[39m, in \u001B[36m_load_unlocked\u001B[39m\u001B[34m(spec)\u001B[39m\n",
      "\u001B[36mFile \u001B[39m\u001B[32m<frozen importlib._bootstrap_external>:994\u001B[39m, in \u001B[36mexec_module\u001B[39m\u001B[34m(self, module)\u001B[39m\n",
      "\u001B[36mFile \u001B[39m\u001B[32m<frozen importlib._bootstrap>:488\u001B[39m, in \u001B[36m_call_with_frames_removed\u001B[39m\u001B[34m(f, *args, **kwds)\u001B[39m\n",
      "\u001B[36mFile \u001B[39m\u001B[32m~/Documents/Neurolab/Projects/report_module/.venv/lib/python3.12/site-packages/matplotlib/backends/backend_qtagg.py:9\u001B[39m\n\u001B[32m      5\u001B[39m \u001B[38;5;28;01mimport\u001B[39;00m\u001B[38;5;250m \u001B[39m\u001B[34;01mctypes\u001B[39;00m\n\u001B[32m      7\u001B[39m \u001B[38;5;28;01mfrom\u001B[39;00m\u001B[38;5;250m \u001B[39m\u001B[34;01mmatplotlib\u001B[39;00m\u001B[34;01m.\u001B[39;00m\u001B[34;01mtransforms\u001B[39;00m\u001B[38;5;250m \u001B[39m\u001B[38;5;28;01mimport\u001B[39;00m Bbox\n\u001B[32m----> \u001B[39m\u001B[32m9\u001B[39m \u001B[38;5;28;01mfrom\u001B[39;00m\u001B[38;5;250m \u001B[39m\u001B[34;01m.\u001B[39;00m\u001B[34;01mqt_compat\u001B[39;00m\u001B[38;5;250m \u001B[39m\u001B[38;5;28;01mimport\u001B[39;00m QT_API, QtCore, QtGui\n\u001B[32m     10\u001B[39m \u001B[38;5;28;01mfrom\u001B[39;00m\u001B[38;5;250m \u001B[39m\u001B[34;01m.\u001B[39;00m\u001B[34;01mbackend_agg\u001B[39;00m\u001B[38;5;250m \u001B[39m\u001B[38;5;28;01mimport\u001B[39;00m FigureCanvasAgg\n\u001B[32m     11\u001B[39m \u001B[38;5;28;01mfrom\u001B[39;00m\u001B[38;5;250m \u001B[39m\u001B[34;01m.\u001B[39;00m\u001B[34;01mbackend_qt\u001B[39;00m\u001B[38;5;250m \u001B[39m\u001B[38;5;28;01mimport\u001B[39;00m _BackendQT, FigureCanvasQT\n",
      "\u001B[36mFile \u001B[39m\u001B[32m~/Documents/Neurolab/Projects/report_module/.venv/lib/python3.12/site-packages/matplotlib/backends/qt_compat.py:130\u001B[39m\n\u001B[32m    128\u001B[39m         \u001B[38;5;28;01mbreak\u001B[39;00m\n\u001B[32m    129\u001B[39m     \u001B[38;5;28;01melse\u001B[39;00m:\n\u001B[32m--> \u001B[39m\u001B[32m130\u001B[39m         \u001B[38;5;28;01mraise\u001B[39;00m \u001B[38;5;167;01mImportError\u001B[39;00m(\n\u001B[32m    131\u001B[39m             \u001B[33m\"\u001B[39m\u001B[33mFailed to import any of the following Qt binding modules: \u001B[39m\u001B[38;5;132;01m{}\u001B[39;00m\u001B[33m\"\u001B[39m\n\u001B[32m    132\u001B[39m             .format(\u001B[33m\"\u001B[39m\u001B[33m, \u001B[39m\u001B[33m\"\u001B[39m.join([QT_API \u001B[38;5;28;01mfor\u001B[39;00m _, QT_API \u001B[38;5;129;01min\u001B[39;00m _candidates]))\n\u001B[32m    133\u001B[39m         )\n\u001B[32m    134\u001B[39m \u001B[38;5;28;01melse\u001B[39;00m:  \u001B[38;5;66;03m# We should not get there.\u001B[39;00m\n\u001B[32m    135\u001B[39m     \u001B[38;5;28;01mraise\u001B[39;00m \u001B[38;5;167;01mAssertionError\u001B[39;00m(\u001B[33mf\u001B[39m\u001B[33m\"\u001B[39m\u001B[33mUnexpected QT_API: \u001B[39m\u001B[38;5;132;01m{\u001B[39;00mQT_API\u001B[38;5;132;01m}\u001B[39;00m\u001B[33m\"\u001B[39m)\n",
      "\u001B[31mImportError\u001B[39m: Failed to import any of the following Qt binding modules: PyQt6, PySide6, PyQt5, PySide2"
     ]
    }
   ],
   "execution_count": 30
  },
  {
   "metadata": {},
   "cell_type": "code",
   "outputs": [],
   "execution_count": null,
   "source": "",
   "id": "3e79fc9843b765da"
  },
  {
   "metadata": {
    "ExecuteTime": {
     "end_time": "2025-08-24T14:54:54.387864Z",
     "start_time": "2025-08-24T14:54:54.385403Z"
    }
   },
   "cell_type": "code",
   "source": [
    "band_power_abs = {'d1': np.array([1,2,3,4]), 'd2': np.array([5,6,7,8])}\n",
    "total_power = sum(band_power_abs.values())"
   ],
   "id": "63457d926d093083",
   "outputs": [],
   "execution_count": 18
  },
  {
   "metadata": {},
   "cell_type": "markdown",
   "source": "# Test Report",
   "id": "1e8ca9c6d9fa13d"
  },
  {
   "metadata": {
    "ExecuteTime": {
     "end_time": "2025-08-22T16:43:50.630463Z",
     "start_time": "2025-08-22T16:43:50.547366Z"
    }
   },
   "cell_type": "code",
   "source": [
    "from reportlab.lib.pagesizes import A4\n",
    "from reportlab.lib import colors\n",
    "from reportlab.platypus import SimpleDocTemplate, Paragraph, Table, TableStyle, Spacer\n",
    "from reportlab.lib.styles import getSampleStyleSheet, ParagraphStyle\n",
    "from reportlab.pdfbase.ttfonts import TTFont\n",
    "from reportlab.pdfbase import pdfmetrics\n",
    "\n",
    "# регистрируем кириллический шрифт\n",
    "pdfmetrics.registerFont(TTFont(\"UI\", str(FONT)))\n",
    "\n",
    "doc = SimpleDocTemplate(\"report_reportlab.pdf\", pagesize=A4,\n",
    "                        leftMargin=24, rightMargin=24, topMargin=24, bottomMargin=24)\n",
    "\n",
    "styles = getSampleStyleSheet()\n",
    "styles.add(ParagraphStyle(name=\"TitleRU\", fontName=\"UI\", fontSize=20, leading=24, textColor=colors.white))\n",
    "styles.add(ParagraphStyle(name=\"BodyRU\", fontName=\"UI\", fontSize=11, leading=14))\n",
    "\n",
    "story = []\n",
    "\n",
    "# цветная плашка-заголовок\n",
    "from reportlab.platypus import Flowable\n",
    "class Header(Flowable):\n",
    "    def __init__(self, text, h=28, color=colors.HexColor(\"#1E5CB4\")):\n",
    "        Flowable.__init__(self); self.text=text; self.h=h; self.color=color\n",
    "    def draw(self):\n",
    "        c = self.canv\n",
    "        c.saveState()\n",
    "        c.setFillColor(self.color); c.rect(0, 0, self._width, self.h, fill=1, stroke=0)\n",
    "        c.setFillColor(colors.white); c.setFont(\"UI\", 18)\n",
    "        c.drawString(10, 7, self.text)\n",
    "        c.restoreState()\n",
    "    def wrap(self, w, h): self._width=w; return w, self.h\n",
    "\n",
    "story += [Header(\"Ежемесячный отчёт\"), Spacer(1, 12)]\n",
    "story += [Paragraph(\"Август 2025 • Отдел исследований\", styles[\"BodyRU\"]), Spacer(1, 8)]\n",
    "story += [Paragraph(\"Краткое резюме: стабильность выросла, метрики улучшены, датасет расширен.\", styles[\"BodyRU\"]), Spacer(1, 12)]\n",
    "\n",
    "data = [\n",
    "    [\"Метрика\", \"Значение\", \"Комментарий\"],\n",
    "    [\"Accuracy\", \"0.92\", \"Норма > 0.90\"],\n",
    "    [\"Precision\", \"0.89\", \"Рост на 0.02\"],\n",
    "    [\"Recall\", \"0.87\", \"Стабильность выше\"],\n",
    "    [\"F1-score\", \"0.88\", \"Баланс классов\"],\n",
    "]\n",
    "table = Table(data, colWidths=[90, 70, 300])\n",
    "table.setStyle(TableStyle([\n",
    "    (\"BACKGROUND\", (0,0), (-1,0), colors.HexColor(\"#EAF0FE\")),\n",
    "    (\"TEXTCOLOR\", (0,0), (-1,0), colors.HexColor(\"#142030\")),\n",
    "    (\"FONTNAME\", (0,0), (-1,-1), \"UI\"),\n",
    "    (\"FONTSIZE\", (0,0), (-1,0), 11),\n",
    "    (\"FONTSIZE\", (0,1), (-1,-1), 10),\n",
    "    (\"ROWBACKGROUNDS\", (0,1), (-1,-1), [colors.white, colors.HexColor(\"#FAFAFC\")]),\n",
    "    (\"GRID\", (0,0), (-1,-1), 0.3, colors.HexColor(\"#D0D0D0\")),\n",
    "    (\"ALIGN\", (1,1), (1,-1), \"CENTER\"),\n",
    "]))\n",
    "story += [table]\n",
    "\n",
    "doc.build(story)\n",
    "print(\"OK -> report_reportlab.pdf\")\n"
   ],
   "id": "cf03d9c5c4d5c187",
   "outputs": [
    {
     "name": "stdout",
     "output_type": "stream",
     "text": [
      "OK -> report_reportlab.pdf\n"
     ]
    }
   ],
   "execution_count": 13
  },
  {
   "metadata": {
    "ExecuteTime": {
     "end_time": "2025-08-22T17:32:35.391409Z",
     "start_time": "2025-08-22T17:32:35.354515Z"
    }
   },
   "cell_type": "code",
   "source": [
    "from reportlab.lib.pagesizes import A4\n",
    "from reportlab.lib import colors\n",
    "from reportlab.platypus import SimpleDocTemplate, Paragraph, Table, TableStyle, Spacer\n",
    "from reportlab.lib.styles import getSampleStyleSheet, ParagraphStyle\n",
    "from reportlab.pdfbase.ttfonts import TTFont\n",
    "from reportlab.pdfbase import pdfmetrics\n",
    "from pathlib import Path\n",
    "\n",
    "# 1) Найдём шрифт (укажи свой путь, если не найдётся)\n",
    "FONT = next((Path(p) for p in [\n",
    "    \"/usr/share/fonts/truetype/dejavu/DejaVuSans.ttf\",          # Linux\n",
    "    \"/System/Library/Fonts/Supplemental/Arial.ttf\",             # macOS\n",
    "    \"/Library/Fonts/Arial.ttf\",                                 # macOS\n",
    "    \"C:/Windows/Fonts/arial.ttf\",                               # Windows\n",
    "    \"./DejaVuSans.ttf\",\n",
    "] if Path(p).exists()), None)\n",
    "assert FONT and FONT.exists(), \"Укажи путь к TTF-шрифту с кириллицей\"\n",
    "\n",
    "# Попробуем найти bold-начертание; если нет — используем обычный\n",
    "BOLD = None\n",
    "for cand in [\n",
    "    str(FONT).replace(\".ttf\", \"-Bold.ttf\"),\n",
    "    str(FONT).replace(\".ttf\", \" Bold.ttf\"),\n",
    "    str(FONT).replace(\".ttf\", \"Bold.ttf\"),\n",
    "]:\n",
    "    if Path(cand).exists():\n",
    "        BOLD = Path(cand); break\n",
    "if BOLD is None:\n",
    "    BOLD = FONT  # фолбэк\n",
    "\n",
    "pdfmetrics.registerFont(TTFont(\"UI\", str(FONT)))\n",
    "pdfmetrics.registerFont(TTFont(\"UIB\", str(BOLD)))\n",
    "\n",
    "# 2) Стили\n",
    "styles = getSampleStyleSheet()\n",
    "styles.add(ParagraphStyle(name=\"H1RU\", fontName=\"UIB\", fontSize=12, leading=15, spaceAfter=6))\n",
    "styles.add(ParagraphStyle(name=\"BodyRU\", fontName=\"UI\", fontSize=11, leading=14))\n",
    "styles.add(ParagraphStyle(name=\"LblRU\", fontName=\"UIB\", fontSize=12, leading=14))\n",
    "styles.add(ParagraphStyle(name=\"SmallRU\", fontName=\"UI\", fontSize=10, leading=12))\n",
    "\n",
    "# 3) Документ\n",
    "doc = SimpleDocTemplate(\n",
    "    \"eeg_report.pdf\", pagesize=A4,\n",
    "    leftMargin=36, rightMargin=36, topMargin=36, bottomMargin=36\n",
    ")\n",
    "\n",
    "story = []\n",
    "\n",
    "# Поля «ФИО / Дата / Процедура» с линиями\n",
    "def line_field(label, width=400):\n",
    "    t = Table(\n",
    "        [[Paragraph(label, styles[\"LblRU\"]), \"\"]],\n",
    "        colWidths=[85, width]\n",
    "    )\n",
    "    t.setStyle(TableStyle([\n",
    "        (\"FONT\", (0,0), (0,0), \"UIB\", 12),\n",
    "        (\"BOTTOMPADDING\", (1,0), (1,0), 2),\n",
    "        (\"LINEBELOW\", (1,0), (1,0), 0.7, colors.black),\n",
    "        (\"VALIGN\", (0,0), (-1,-1), \"MIDDLE\"),\n",
    "    ]))\n",
    "    return t\n",
    "\n",
    "story += [line_field(\"ФИ:\"), Spacer(1, 5)]\n",
    "story += [line_field(\"Дата:\"), Spacer(1, 10)]\n",
    "story += [line_field(\"Процедура:\"), Spacer(1, 14)]\n",
    "\n",
    "# Разделы\n",
    "story += [Paragraph(\"Результаты:\", styles[\"H1RU\"]), Spacer(1, 6)]\n",
    "story += [Paragraph(\"Ритмы в фоновой активности до процедуры:\", styles[\"H1RU\"]), Spacer(1, 6)]\n",
    "\n",
    "# Таблица метрик\n",
    "headers = [\n",
    "    \"Область\",\n",
    "    \"Дельта\\n(абс.)\", \"Дельта /\\nΣ\",\n",
    "    \"Тета\\n(абс.)\",   \"Тета /\\nΣ\",\n",
    "    \"Альфа\\n(абс.)\",  \"Альфа /\\nΣ\",\n",
    "    \"Бета\\n(абс.)\",   \"Бета /\\nΣ\",\n",
    "]\n",
    "rows = [\n",
    "    [\"Фронтальная\", \"\", \"\", \"\", \"\", \"\", \"\", \"\", \"\"],\n",
    "    [\"Центральная (L)\", \"\", \"\", \"\", \"\", \"\", \"\", \"\", \"\"],\n",
    "    [\"Центральная (R)\", \"\", \"\", \"\", \"\", \"\", \"\", \"\", \"\"],\n",
    "    [\"Затылочная\", \"\", \"\", \"\", \"\", \"\", \"\", \"\", \"\"],\n",
    "]\n",
    "data = [headers] + rows\n",
    "\n",
    "tbl = Table(\n",
    "    data,\n",
    "    colWidths=[195, 48, 42, 48, 42, 48, 42, 48, 42],\n",
    "    rowHeights=None,\n",
    "    repeatRows=1,  # повторять заголовок на новых страницах\n",
    ")\n",
    "\n",
    "tbl.setStyle(TableStyle([\n",
    "    # Шрифты\n",
    "    (\"FONT\", (0,0), (-1,0), \"UIB\", 10),     # заголовок\n",
    "    (\"FONT\", (0,1), (-1,-1), \"UI\", 10),     # тело\n",
    "    # Выравнивание\n",
    "    (\"VALIGN\", (0,0), (-1,-1), \"MIDDLE\"),\n",
    "    (\"ALIGN\",  (1,1), (-1,-1), \"CENTER\"),\n",
    "    (\"ALIGN\",  (0,0), (0,-1), \"LEFT\"),\n",
    "    # Фон и сетка\n",
    "    (\"BACKGROUND\", (0,0), (-1,0), colors.HexColor(\"#ECEFF7\")),\n",
    "    (\"ROWBACKGROUNDS\", (0,1), (-1,-1), [colors.white, colors.HexColor(\"#FAFAFC\")]),\n",
    "    (\"GRID\", (0,0), (-1,-1), 0.4, colors.HexColor(\"#C8CDD9\")),\n",
    "    # Визуальный разделитель под шапкой\n",
    "    (\"LINEBELOW\", (0,0), (-1,0), 0.8, colors.HexColor(\"#AAB2C5\")),\n",
    "    # Внутренние отступы\n",
    "    (\"LEFTPADDING\", (0,0), (-1,-1), 6),\n",
    "    (\"RIGHTPADDING\", (0,0), (-1,-1), 6),\n",
    "    (\"TOPPADDING\", (0,0), (-1,-1), 4),\n",
    "    (\"BOTTOMPADDING\", (0,0), (-1,-1), 4),\n",
    "]))\n",
    "story += [tbl, Spacer(1, 14)]\n",
    "\n",
    "# Сноска\n",
    "story += [Paragraph(\"Σ — сумма абсолютных величин всех ритмов (Δ + Θ + α + β) для данной области.\", styles[\"SmallRU\"])]\n",
    "\n",
    "doc.build(story)\n",
    "print(\"OK → eeg_report.pdf\")\n"
   ],
   "id": "e04d3040e94fc5b8",
   "outputs": [
    {
     "name": "stdout",
     "output_type": "stream",
     "text": [
      "OK → eeg_report.pdf\n"
     ]
    }
   ],
   "execution_count": 30
  },
  {
   "metadata": {
    "ExecuteTime": {
     "end_time": "2025-08-23T16:16:33.779152Z",
     "start_time": "2025-08-23T16:16:33.724666Z"
    }
   },
   "cell_type": "code",
   "source": [
    "from fpdf import FPDF, XPos, YPos\n",
    "import os\n",
    "\n",
    "class PDF(FPDF):\n",
    "    def colored_table(self, header, data):\n",
    "        # Цвета и ширина линий\n",
    "        self.set_fill_color(51, 122, 183)  # Синий цвет для шапки\n",
    "        self.set_text_color(255, 255, 255)  # Белый текст для шапки\n",
    "        self.set_draw_color(128, 128, 128)  # Серый цвет границ\n",
    "        self.set_line_width(0.3)\n",
    "\n",
    "        # Ширина колонок\n",
    "        col_width = 45\n",
    "\n",
    "        # Шапка таблицы\n",
    "        self.set_font('Arial', 'B', 12)\n",
    "        for col in header:\n",
    "            self.cell(col_width, 10, text=col, border=1, align='C', fill=True)\n",
    "        self.ln()\n",
    "\n",
    "        # Данные таблицы\n",
    "        self.set_fill_color(245, 245, 245)  # Светло-серый для строк\n",
    "        self.set_text_color(0, 0, 0)  # Черный текст\n",
    "        self.set_font('Arial', '', 10)\n",
    "\n",
    "        fill = False\n",
    "        for row in data:\n",
    "            for item in row:\n",
    "                self.cell(col_width, 8, text=str(item), border=1, align='C', fill=fill)\n",
    "            self.ln()\n",
    "            fill = not fill  # Чередование цвета строк\n",
    "\n",
    "# Создаем PDF\n",
    "pdf = PDF()\n",
    "pdf.add_page()\n",
    "\n",
    "# Добавляем системный шрифт\n",
    "if os.name == 'nt':  # Windows\n",
    "    font_path = 'C:/Windows/Fonts/arial.ttf'\n",
    "    try:\n",
    "        pdf.add_font('Arial', '', font_path)\n",
    "        pdf.add_font('Arial', 'B', 'C:/Windows/Fonts/arialbd.ttf')  # Bold версия\n",
    "    except:\n",
    "        # Если не удается добавить Arial, используем встроенный шрифт\n",
    "        pass\n",
    "else:  # Mac/Linux\n",
    "    try:\n",
    "        if os.path.exists('/System/Library/Fonts/Supplemental/Arial.ttf'):\n",
    "            # macOS\n",
    "            pdf.add_font('Arial', '', '/System/Library/Fonts/Supplemental/Arial.ttf')\n",
    "            pdf.add_font('Arial', 'B', '/System/Library/Fonts/Supplemental/Arial Bold.ttf')\n",
    "        else:\n",
    "            # Linux - попробуем другие пути\n",
    "            pdf.add_font('Arial', '', '/usr/share/fonts/truetype/liberation/LiberationSans-Regular.ttf')\n",
    "            pdf.add_font('Arial', 'B', '/usr/share/fonts/truetype/liberation/LiberationSans-Bold.ttf')\n",
    "    except:\n",
    "        # Используем встроенный шрифт, если не удается найти Arial\n",
    "        pass\n",
    "\n",
    "# Заголовок\n",
    "pdf.set_font('Arial', 'B', size=16)\n",
    "# Исправлено: используем text вместо txt, и new_x/new_y вместо ln\n",
    "pdf.cell(200, 10, text='Привет Мир!', new_x=XPos.LMARGIN, new_y=YPos.NEXT, align='C')\n",
    "\n",
    "# Добавляем отступ перед таблицей\n",
    "pdf.ln(10)\n",
    "\n",
    "# Заголовок таблицы\n",
    "pdf.set_font('Arial', 'B', size=14)\n",
    "pdf.cell(200, 10, text='Пример таблицы с данными', new_x=XPos.LMARGIN, new_y=YPos.NEXT, align='C')\n",
    "pdf.ln(5)\n",
    "\n",
    "# Данные для таблицы\n",
    "header = ['Имя', 'Возраст', 'Город', 'Профессия']\n",
    "data = [\n",
    "    ['Иван', '25', 'Москва', 'Программист'],\n",
    "    ['Мария', '30', 'Санкт-Петербург', 'Дизайнер'],\n",
    "    ['Петр', '28', 'Новосибирск', 'Менеджер'],\n",
    "    ['Анна', '35', 'Екатеринбург', 'Аналитик'],\n",
    "    ['Дмитрий', '32', 'Казань', 'Инженер']\n",
    "]\n",
    "\n",
    "# Создаем таблицу\n",
    "pdf.colored_table(header, data)\n",
    "\n",
    "# Добавляем еще текст после таблицы\n",
    "pdf.ln(1)\n",
    "pdf.set_font('Arial', '', size=12)\n",
    "pdf.set_text_color(0, 255, 0)\n",
    "pdf.multi_cell(0, 10, text='Это пример PDF документа с таблицей, у которой синяя шапка. '\n",
    "                           'Строки таблицы чередуются по цвету для лучшей читаемости.')\n",
    "\n",
    "# Сохраняем PDF\n",
    "pdf.output('отчет.pdf')\n",
    "print(\"PDF файл 'отчет.pdf' успешно создан!\")"
   ],
   "id": "9bfe4f6a00c6b72e",
   "outputs": [
    {
     "name": "stdout",
     "output_type": "stream",
     "text": [
      "PDF файл 'отчет.pdf' успешно создан!\n"
     ]
    }
   ],
   "execution_count": 21
  },
  {
   "metadata": {
    "ExecuteTime": {
     "end_time": "2025-08-24T00:34:20.366853Z",
     "start_time": "2025-08-24T00:34:20.364798Z"
    }
   },
   "cell_type": "code",
   "source": [
    "def truncate(val, decimals=3):\n",
    "    sig = max(0, 4 - len(str(int(val))))\n",
    "    return format(val , '.%df' % sig)\n",
    "\n",
    "val = 0.00000000012142\n",
    "data = truncate(val, decimals=3)\n",
    "print(data)"
   ],
   "id": "797a2c1b8bd04706",
   "outputs": [
    {
     "name": "stdout",
     "output_type": "stream",
     "text": [
      "0.000\n"
     ]
    }
   ],
   "execution_count": 41
  },
  {
   "metadata": {},
   "cell_type": "code",
   "outputs": [],
   "execution_count": null,
   "source": "",
   "id": "7ee26d74c6d217fe"
  }
 ],
 "metadata": {
  "kernelspec": {
   "display_name": "Python 3",
   "language": "python",
   "name": "python3"
  },
  "language_info": {
   "codemirror_mode": {
    "name": "ipython",
    "version": 2
   },
   "file_extension": ".py",
   "mimetype": "text/x-python",
   "name": "python",
   "nbconvert_exporter": "python",
   "pygments_lexer": "ipython2",
   "version": "2.7.6"
  }
 },
 "nbformat": 4,
 "nbformat_minor": 5
}
